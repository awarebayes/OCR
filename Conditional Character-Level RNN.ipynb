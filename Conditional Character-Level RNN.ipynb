{
 "cells": [
  {
   "cell_type": "markdown",
   "metadata": {},
   "source": [
    "### Crap predefing"
   ]
  },
  {
   "cell_type": "code",
   "execution_count": 1,
   "metadata": {
    "collapsed": true
   },
   "outputs": [],
   "source": [
    "# Torch\n",
    "import torch\n",
    "import torch.nn as nn\n",
    "from torch.autograd import Variable\n",
    "\n",
    "# Utils\n",
    "import string\n",
    "import random\n",
    "import re\n",
    "import glob\n",
    "import os\n",
    "from PIL import Image\n",
    "\n",
    "# Torchvision\n",
    "import torchvision.models as models\n",
    "import torchvision.transforms as transforms\n",
    "\n",
    "# Predef constants\n",
    "all_letters = string.ascii_letters\n",
    "n_letters = len(all_letters) + 2 # Plus EOS marker and STOES\n",
    "EOS = n_letters - 1\n",
    "STOS = n_letters - 2\n",
    "\n",
    "use_cuda = torch.cuda.is_available()\n",
    "dtype = torch.cuda.FloatTensor if use_cuda else torch.FloatTensor\n",
    "\n",
    "input_image_size =  512* 7* 7\n",
    "\n"
   ]
  },
  {
   "cell_type": "code",
   "execution_count": 5,
   "metadata": {},
   "outputs": [],
   "source": [
    "# Heavy veriables \n",
    "if use_cuda:\n",
    "    extractor = extractor.cuda()\n",
    "    \n",
    "train_images = torch.load('datagen/data/train.pt')"
   ]
  },
  {
   "cell_type": "code",
   "execution_count": 6,
   "metadata": {
    "collapsed": true
   },
   "outputs": [],
   "source": [
    "loader = transforms.Compose([\n",
    "    transforms.ToTensor()])  # transform it into a torch tensor\n",
    "\n",
    "import PIL.Image\n",
    "def image_loader(image_name):\n",
    "    image = PIL.Image.open(image_name)\n",
    "    image = Variable(loader(image)).type(dtype)\n",
    "    # fake batch dimension required to fit network's input dimensions\n",
    "    image = image.unsqueeze(0)\n",
    "    return image"
   ]
  },
  {
   "cell_type": "code",
   "execution_count": 7,
   "metadata": {
    "collapsed": true
   },
   "outputs": [],
   "source": [
    "class RNN(nn.Module):\n",
    "    def __init__(self, input_size, hidden_size, output_size):\n",
    "        super(RNN, self).__init__()\n",
    "        self.input_size = input_size\n",
    "        self.hidden_size = hidden_size\n",
    "        self.output_size = output_size\n",
    "        \n",
    "        self.i2h = nn.Linear(input_image_size + input_size + hidden_size, hidden_size)\n",
    "        self.i2o = nn.Linear(input_image_size + input_size + hidden_size, output_size)\n",
    "        self.o2o = nn.Linear(hidden_size + output_size, output_size)\n",
    "        self.softmax = nn.LogSoftmax()\n",
    "        \n",
    "        if use_cuda:\n",
    "            self.i2h = self.i2h.cuda()\n",
    "            self.i2o = self.i2o.cuda()\n",
    "            self.o2o = self.o2o.cuda()\n",
    "    \n",
    "    def forward(self, image, input, hidden):\n",
    "        input_combined = Variable(torch.cat([image.data, input.data, hidden.data], 1))\n",
    "        hidden = self.i2h(input_combined)\n",
    "        output = self.i2o(input_combined)\n",
    "        output_combined = torch.cat((hidden, output), 1)\n",
    "        output = self.o2o(output_combined)\n",
    "        return output, hidden\n",
    "\n",
    "    def init_hidden(self):\n",
    "        return Variable(torch.zeros(1, self.hidden_size)).type(dtype)"
   ]
  },
  {
   "cell_type": "code",
   "execution_count": 8,
   "metadata": {},
   "outputs": [
    {
     "name": "stdout",
     "output_type": "stream",
     "text": [
      "\n"
     ]
    }
   ],
   "source": [
    "def image_tensor(img):\n",
    "    return Variable(extractor(img))\n",
    "\n",
    "\n",
    "# One-hot matrix of first to last letters with STOS (not including EOS) for input\n",
    "def make_chars_input(chars):\n",
    "    tensor = torch.zeros(len(chars) + 1, n_letters)\n",
    "    tensor[0][-2] = 1\n",
    "    for ci in range(len(chars)):\n",
    "        char = chars[ci]\n",
    "        tensor[ci+1][all_letters.find(char)] = 1\n",
    "    tensor = tensor.view(-1, 1, n_letters)\n",
    "    return Variable(tensor).type(dtype)\n",
    "\n",
    "def make_target(line):\n",
    "    letter_indexes = [all_letters.find(line[li]) for li in range(1, len(line))]\n",
    "    letter_indexes.insert(0, STOS)\n",
    "    letter_indexes.append(EOS) # EOS\n",
    "    tensor = torch.FloatTensor(letter_indexes)\n",
    "    return Variable(tensor).type(dtype)\n",
    "\n",
    "def generate_random_sample():\n",
    "    train_samples = glob.glob(os.getcwd() + \"\\datagen\\\\data\\\\train\\\\*\")\n",
    "    \n",
    "    \n",
    "    image_path = random.choice(train_samples)\n",
    "    idx = train_samples.index(image_path)\n",
    "    image_name_cut = image_path.split(\"\\\\\")[-1]\n",
    "    \n",
    "    word = image_name_cut.split(\"_\")[0]\n",
    "    \n",
    "    image_input = Variable(train_images[idx].unsqueeze(0)).type(dtype)\n",
    "    \n",
    "    line_target = make_target(word)\n",
    "    line_input = make_chars_input(word)\n",
    "    \n",
    "    return image_input, line_input, line_target\n",
    "\n",
    "\n",
    "generate_random_sample()\n",
    "print()"
   ]
  },
  {
   "cell_type": "code",
   "execution_count": 9,
   "metadata": {
    "collapsed": true
   },
   "outputs": [],
   "source": [
    "def train(image_tensor, input_line_tensor, target_line_tensor):\n",
    "    hidden = rnn.init_hidden()\n",
    "    optimizer.zero_grad()\n",
    "    loss = 0\n",
    "    \n",
    "    for i in range(input_line_tensor.size()[0]):\n",
    "        output, hidden = rnn(image_tensor, input_line_tensor[i], hidden)\n",
    "        hidden = hidden.cuda()\n",
    "        loss += criterion(output, target_line_tensor[i].type(torch.cuda.LongTensor))\n",
    "    \n",
    "    loss.backward()\n",
    "    optimizer.step()\n",
    "    return output, loss.data[0] / input_line_tensor.size()[0]"
   ]
  },
  {
   "cell_type": "code",
   "execution_count": 10,
   "metadata": {
    "collapsed": true
   },
   "outputs": [],
   "source": [
    "import time\n",
    "import math\n",
    "\n",
    "def time_since(t):\n",
    "    now = time.time()\n",
    "    s = now - t\n",
    "    m = math.floor(s / 60)\n",
    "    s -= m * 60\n",
    "    return '%dm %ds' % (m, s)"
   ]
  },
  {
   "cell_type": "code",
   "execution_count": 16,
   "metadata": {
    "scrolled": true
   },
   "outputs": [
    {
     "name": "stdout",
     "output_type": "stream",
     "text": [
      "Loading\n",
      "Training\n",
      "0m 0s (50 10%) 1.3499\n",
      "0m 1s (100 20%) 2.0683\n",
      "0m 2s (150 30%) 1.9255\n",
      "0m 3s (200 40%) 2.6006\n",
      "0m 4s (250 50%) 0.4512\n",
      "0m 4s (300 60%) 0.7609\n",
      "0m 5s (350 70%) 1.6262\n",
      "0m 6s (400 80%) 0.4798\n",
      "0m 7s (450 90%) 1.8505\n",
      "0m 8s (500 100%) 0.4200\n",
      "Saving\n",
      "Done\n",
      "Best loss 1.0150521597691944\n"
     ]
    }
   ],
   "source": [
    "from IPython.display import clear_output\n",
    "from tqdm import tqdm\n",
    "from tensorboardX import SummaryWriter\n",
    "writer = SummaryWriter('logs')\n",
    "\n",
    "n_epochs = 500\n",
    "print_every = 50\n",
    "plot_every = 100\n",
    "all_losses = []\n",
    "loss_avg = 0 # Zero every plot_every epochs to keep a running average\n",
    "learning_rate = 0.00001\n",
    "\n",
    "rnn = RNN(n_letters, 128, n_letters)\n",
    "if use_cuda:\n",
    "    rnn = rnn.cuda()\n",
    "optimizer = torch.optim.Adam(rnn.parameters(), lr=learning_rate, weight_decay=0.0001)\n",
    "criterion = nn.CrossEntropyLoss()\n",
    "\n",
    "start = time.time()\n",
    "print(\"Loading\")\n",
    "rnn.load_state_dict(torch.load('LinearRnn.pt'))\n",
    "print(\"Training\")\n",
    "\n",
    "best_loss = 100\n",
    "best_state = None\n",
    "\n",
    "for epoch in range(1, n_epochs + 1):\n",
    "    output, loss = train(*generate_random_sample())\n",
    "    loss_avg += loss\n",
    "\n",
    "    \n",
    "    if epoch % print_every == 0:\n",
    "        print('%s (%d %d%%) %.4f' % (time_since(start), epoch, epoch / n_epochs * 100, loss))\n",
    "    \n",
    "    \n",
    "    if epoch % plot_every == 0:\n",
    "        all_losses.append(loss_avg / plot_every)\n",
    "        writer.add_scalar('Train/Loss', loss_avg / plot_every, epoch)\n",
    "        \n",
    "        if loss_avg / plot_every < best_loss:\n",
    "            best_state = rnn.state_dict()\n",
    "            best_loss = loss_avg / plot_every\n",
    "            \n",
    "        loss_avg = 0\n",
    "\n",
    "\n",
    "if best_state is not None:\n",
    "    print(\"Saving\")\n",
    "    torch.save(rnn.state_dict(), \"LinearRnn.pt\")\n",
    "    print(\"Done\")\n",
    "print(\"Best loss\", best_loss)"
   ]
  },
  {
   "cell_type": "code",
   "execution_count": 12,
   "metadata": {
    "collapsed": true
   },
   "outputs": [],
   "source": [
    "def make_char_input(chars):\n",
    "    tensor = torch.zeros(len(chars), n_letters)\n",
    "    for ci in range(len(chars)):\n",
    "        char = chars[ci]\n",
    "        tensor[ci+1][all_letters.find(char)] = 1\n",
    "    tensor = tensor.view(-1, 1, n_letters)\n",
    "    return Variable(tensor).type(dtype)"
   ]
  },
  {
   "cell_type": "code",
   "execution_count": 13,
   "metadata": {
    "collapsed": true
   },
   "outputs": [],
   "source": [
    "def generate_one(image, temperature=0.5):\n",
    "    image_input = Variable(train_images[idx].unsqueeze(0)).type(dtype)\n",
    "    \n",
    "    chars_input = torch.zeros(1, n_letters)\n",
    "    chars_input[0][-2] = 1\n",
    "    chars_input = Variable(chars_input).type(dtype)\n",
    "    \n",
    "    hidden = rnn.init_hidden()\n",
    "\n",
    "    output_str = \"\"\n",
    "    \n",
    "    max_length = 12\n",
    "    \n",
    "    for i in range(max_length):\n",
    "        output, hidden = rnn(image_input, chars_input, hidden)\n",
    "        \n",
    "        # Sample as a multinomial distribution\n",
    "        output_dist = output.data.view(-1).div(temperature).exp()\n",
    "        top_i = torch.multinomial(output_dist, 1)[0]\n",
    "        \n",
    "        # Stop at EOS, or add to output_str\n",
    "        if top_i == EOS:\n",
    "            break\n",
    "        if top_i == STOS:\n",
    "            continue\n",
    "        else:\n",
    "            \n",
    "            char = all_letters[top_i]\n",
    "            output_str += char\n",
    "            chars_input = torch.zeros(1, n_letters)\n",
    "            chars_input[0][top_i] = 1\n",
    "            chars_input = Variable(chars_input).type(dtype)\n",
    "            \n",
    "            \n",
    "    return output_str\n"
   ]
  },
  {
   "cell_type": "code",
   "execution_count": 18,
   "metadata": {},
   "outputs": [
    {
     "data": {
      "image/png": "[encoded data removed]",
      "text/plain": [
       "<IPython.core.display.Image object>"
      ]
     },
     "metadata": {},
     "output_type": "display_data"
    },
    {
     "name": "stdout",
     "output_type": "stream",
     "text": [
      "amed named\n"
     ]
    }
   ],
   "source": [
    "from IPython.core.display import Image, display\n",
    "\n",
    "train_samples = glob.glob(os.getcwd() + \"\\datagen\\\\data\\\\train\\\\*\")\n",
    "image_path = random.choice(train_samples)\n",
    "idx = train_samples.index(image_path)\n",
    "image_name_cut = image_path.split(\"\\\\\")[-1]\n",
    "word = image_name_cut.split(\"_\")[0]\n",
    "image_input = Variable(train_images[idx].unsqueeze(0)).type(dtype)\n",
    "\n",
    "display(Image(image_path))\n",
    "\n",
    "print(generate_one(image_input), word)"
   ]
  },
  {
   "cell_type": "code",
   "execution_count": null,
   "metadata": {
    "collapsed": true
   },
   "outputs": [],
   "source": []
  }
 ],
 "metadata": {
  "kernelspec": {
   "display_name": "Python 3",
   "language": "python",
   "name": "python3"
  },
  "language_info": {
   "codemirror_mode": {
    "name": "ipython",
    "version": 3
   },
   "file_extension": ".py",
   "mimetype": "text/x-python",
   "name": "python",
   "nbconvert_exporter": "python",
   "pygments_lexer": "ipython3",
   "version": "3.6.2"
  },
  "toc": {
   "nav_menu": {},
   "number_sections": true,
   "sideBar": true,
   "skip_h1_title": false,
   "title_cell": "Table of Contents",
   "title_sidebar": "Contents",
   "toc_cell": false,
   "toc_position": {},
   "toc_section_display": true,
   "toc_window_display": false
  },
  "varInspector": {
   "cols": {
    "lenName": 16,
    "lenType": 16,
    "lenVar": 40
   },
   "kernels_config": {
    "python": {
     "delete_cmd_postfix": "",
     "delete_cmd_prefix": "del ",
     "library": "var_list.py",
     "varRefreshCmd": "print(var_dic_list())"
    },
    "r": {
     "delete_cmd_postfix": ") ",
     "delete_cmd_prefix": "rm(",
     "library": "var_list.r",
     "varRefreshCmd": "cat(var_dic_list()) "
    }
   },
   "types_to_exclude": [
    "module",
    "function",
    "builtin_function_or_method",
    "instance",
    "_Feature"
   ],
   "window_display": false
  }
 },
 "nbformat": 4,
 "nbformat_minor": 2
}
