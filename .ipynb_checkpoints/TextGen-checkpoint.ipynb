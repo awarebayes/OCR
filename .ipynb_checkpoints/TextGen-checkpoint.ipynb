{
 "cells": [
  {
   "cell_type": "code",
   "execution_count": 51,
   "metadata": {},
   "outputs": [
    {
     "name": "stdout",
     "output_type": "stream",
     "text": [
      "8bitlim.ttf\n"
     ]
    },
    {
     "data": {
      "image/png": "[encoded data removed]",
      "text/plain": [
       "<matplotlib.figure.Figure at 0x19ec9628860>"
      ]
     },
     "metadata": {},
     "output_type": "display_data"
    }
   ],
   "source": [
    "from PIL import Image, ImageDraw\n",
    "\n",
    "from matplotlib.pyplot import imshow\n",
    "import numpy as np\n",
    "\n",
    "import glob\n",
    "import random\n",
    "\n",
    "import csv \n",
    "\n",
    "%matplotlib inline\n",
    "\n",
    "def gen_image(text=None):\n",
    "    img = Image.new('RGB', (224, 224), color = 'white')\n",
    "    d = ImageDraw.Draw(img)\n",
    "    \n",
    "    if text is None:\n",
    "        f = open(\"C:/Users/Dev/Desktop/Deep Learning School/OCR/datagen/words.txt\", \"r+\")\n",
    "        lines = f.readlines()\n",
    "        lines = list([i[:-1] for i in lines if 12 > len(i) > 5])\n",
    "        ofile  = open('ttest.csv', \"r+\")\n",
    "        writer = csv.writer(ofile)\n",
    "        \n",
    "        for row in lines:\n",
    "            writer.writerow(row)\n",
    "        \n",
    "        \n",
    "    font_name = random.choice(glob.glob(\"C:/Users/Dev/Desktop/Deep Learning School/OCR/datagen/fonts/*ttf\")).split(\"/\")[-1][6:]\n",
    "    print(font_name)\n",
    "    imshow(np.asarray(img))\n",
    "    \n",
    "gen_image()"
   ]
  },
  {
   "cell_type": "code",
   "execution_count": null,
   "metadata": {
    "collapsed": true
   },
   "outputs": [],
   "source": []
  },
  {
   "cell_type": "code",
   "execution_count": null,
   "metadata": {
    "collapsed": true
   },
   "outputs": [],
   "source": []
  }
 ],
 "metadata": {
  "kernelspec": {
   "display_name": "Python 3",
   "language": "python",
   "name": "python3"
  },
  "language_info": {
   "codemirror_mode": {
    "name": "ipython",
    "version": 3
   },
   "file_extension": ".py",
   "mimetype": "text/x-python",
   "name": "python",
   "nbconvert_exporter": "python",
   "pygments_lexer": "ipython3",
   "version": "3.6.2"
  },
  "toc": {
   "nav_menu": {},
   "number_sections": true,
   "sideBar": true,
   "skip_h1_title": false,
   "title_cell": "Table of Contents",
   "title_sidebar": "Contents",
   "toc_cell": false,
   "toc_position": {},
   "toc_section_display": true,
   "toc_window_display": false
  },
  "varInspector": {
   "cols": {
    "lenName": 16,
    "lenType": 16,
    "lenVar": 40
   },
   "kernels_config": {
    "python": {
     "delete_cmd_postfix": "",
     "delete_cmd_prefix": "del ",
     "library": "var_list.py",
     "varRefreshCmd": "print(var_dic_list())"
    },
    "r": {
     "delete_cmd_postfix": ") ",
     "delete_cmd_prefix": "rm(",
     "library": "var_list.r",
     "varRefreshCmd": "cat(var_dic_list()) "
    }
   },
   "types_to_exclude": [
    "module",
    "function",
    "builtin_function_or_method",
    "instance",
    "_Feature"
   ],
   "window_display": false
  }
 },
 "nbformat": 4,
 "nbformat_minor": 2
}
