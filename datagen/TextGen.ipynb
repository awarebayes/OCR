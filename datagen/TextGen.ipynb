{
 "cells": [
  {
   "cell_type": "code",
   "execution_count": 4,
   "metadata": {},
   "outputs": [],
   "source": [
    "from PIL import Image, ImageDraw, ImageFont\n",
    "import numpy as np\n",
    "\n",
    "import glob\n",
    "import random\n",
    "import os\n",
    "import uuid\n",
    "\n",
    "import torchvision.models as models\n",
    "import torchvision.transforms as transforms\n",
    "\n",
    "import torch\n",
    "\n",
    "use_cuda = torch.cuda.is_available()\n",
    "\n",
    "\n",
    "from tqdm import tqdm\n",
    "\n",
    "extractor = models.vgg16(pretrained=True).features\n",
    "if use_cuda:\n",
    "    extractor = extractor.cuda()\n",
    "\n",
    "MAX_WORD_LEN = 9\n",
    "MIN_WORD_LEN= 5"
   ]
  },
  {
   "cell_type": "code",
   "execution_count": 5,
   "metadata": {},
   "outputs": [],
   "source": [
    "def gen_image(text=None):\n",
    "    if text is None:\n",
    "        f = open(os.getcwd() + \"/words.txt\", \"r+\")\n",
    "        lines = f.readlines()\n",
    "        lines = list([i[:-1] for i in lines if MAX_WORD_LEN > len(i) > MIN_WORD_LEN])\n",
    "        text = random.choice(lines)\n",
    "        \n",
    "        \n",
    "    font_name = random.choice(glob.glob(os.getcwd() + \"/fonts/*ttf\"))\n",
    "    \n",
    "    font = ImageFont.truetype(font_name, 28, encoding=\"unic\")\n",
    "    \n",
    "    text_width, text_height = font.getsize(text)\n",
    "    \n",
    "    canvas = Image.new('RGB', (text_width + 10, text_height + 10), \"white\")\n",
    "    draw = ImageDraw.Draw(canvas)\n",
    "    draw.text((5, 5), text, 'black', font)\n",
    "    \n",
    "    canvas = canvas.resize((244, 244), Image.ANTIALIAS)\n",
    "    \n",
    "    return canvas, text\n",
    "    \n",
    "    \n",
    "def gen_dataset(size, folder='train'):\n",
    "    for i in tqdm(range(size)):\n",
    "        img, text = gen_image()\n",
    "        uutext = text + \"_\" + str(uuid.uuid1())[:8] + \".png\"\n",
    "        img.save(f\"data/{folder}/\" + uutext)\n"
   ]
  },
  {
   "cell_type": "code",
   "execution_count": 6,
   "metadata": {},
   "outputs": [
    {
     "name": "stderr",
     "output_type": "stream",
     "text": [
      "100%|██████████| 10/10 [00:00<00:00, 46.38it/s]\n"
     ]
    }
   ],
   "source": [
    "'''\n",
    "It will take a while..\n",
    "gen_dataset(5000)\n",
    "gen_dataset(1000, 'test')\n",
    "'''\n",
    "\n",
    "gen_dataset(10)"
   ]
  },
  {
   "cell_type": "code",
   "execution_count": 17,
   "metadata": {
    "collapsed": true
   },
   "outputs": [],
   "source": [
    "loader = transforms.Compose([\n",
    "    transforms.ToTensor()])  # transform it into a torch tensor\n",
    "\n",
    "import PIL.Image\n",
    "from torch.autograd import Variable\n",
    "\n",
    "dtype = torch.cuda.FloatTensor if use_cuda else torch.FloatTensor\n",
    "\n",
    "input_image_size = 512* 7* 7\n",
    "\n",
    "def image_loader(image_name):\n",
    "    image = PIL.Image.open(image_name)\n",
    "    image = Variable(loader(image)).type(dtype)\n",
    "    # fake batch dimension required to fit network's input dimensions\n",
    "    image = image.unsqueeze(0)\n",
    "    return image\n",
    "\n",
    "def make_conv(save_format='torch', directory='\\\\data\\\\train\\\\*', file_name='train'):\n",
    "    train_samples = glob.glob(os.getcwd() + directory)\n",
    "    \n",
    "    image_tensors = torch.LongTensor(len(train_samples), input_image_size)\n",
    "    \n",
    "    for i in tqdm(range(len(train_samples))):\n",
    "        image_path = train_samples[i]\n",
    "\n",
    "        image_name_cut = image_path.split(\"\\\\\")[-1]\n",
    "\n",
    "        word = image_name_cut.split(\"_\")[0]\n",
    "\n",
    "        image_input = extractor(image_loader(os.getcwd() + \"/data/train/\" + image_name_cut))\n",
    "        image_input.data = image_input.data.squeeze(0)\n",
    "        image_input.data = image_input.data.view(image_input.data.size(0), -1)\n",
    "        image_input.data =  image_input.data.view(1, -1).squeeze(0)\n",
    "        image_tensors[i] = image_input.data\n",
    "        \n",
    "    if save_format=='torch':\n",
    "        torch.save(image_tensors, os.getcwd() + f\"\\\\data\\\\{file_name}.pt\")\n",
    "    else:\n",
    "        np.save( os.getcwd() +  f\"\\\\data\\\\{file_name}.npy\", image_tensors.numpy())"
   ]
  },
  {
   "cell_type": "code",
   "execution_count": 19,
   "metadata": {
    "scrolled": false
   },
   "outputs": [
    {
     "name": "stderr",
     "output_type": "stream",
     "text": [
      "100%|██████████| 10/10 [00:00<00:00, 98.64it/s]\n"
     ]
    }
   ],
   "source": [
    "make_conv(save_format='torch')"
   ]
  },
  {
   "cell_type": "code",
   "execution_count": null,
   "metadata": {
    "collapsed": true
   },
   "outputs": [],
   "source": []
  }
 ],
 "metadata": {
  "kernelspec": {
   "display_name": "Python 3",
   "language": "python",
   "name": "python3"
  },
  "language_info": {
   "codemirror_mode": {
    "name": "ipython",
    "version": 3
   },
   "file_extension": ".py",
   "mimetype": "text/x-python",
   "name": "python",
   "nbconvert_exporter": "python",
   "pygments_lexer": "ipython3",
   "version": "3.6.2"
  },
  "toc": {
   "nav_menu": {},
   "number_sections": true,
   "sideBar": true,
   "skip_h1_title": false,
   "title_cell": "Table of Contents",
   "title_sidebar": "Contents",
   "toc_cell": false,
   "toc_position": {},
   "toc_section_display": true,
   "toc_window_display": false
  },
  "varInspector": {
   "cols": {
    "lenName": 16,
    "lenType": 16,
    "lenVar": 40
   },
   "kernels_config": {
    "python": {
     "delete_cmd_postfix": "",
     "delete_cmd_prefix": "del ",
     "library": "var_list.py",
     "varRefreshCmd": "print(var_dic_list())"
    },
    "r": {
     "delete_cmd_postfix": ") ",
     "delete_cmd_prefix": "rm(",
     "library": "var_list.r",
     "varRefreshCmd": "cat(var_dic_list()) "
    }
   },
   "types_to_exclude": [
    "module",
    "function",
    "builtin_function_or_method",
    "instance",
    "_Feature"
   ],
   "window_display": false
  }
 },
 "nbformat": 4,
 "nbformat_minor": 2
}
