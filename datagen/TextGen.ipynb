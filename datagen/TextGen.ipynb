{
 "cells": [
  {
   "cell_type": "code",
   "execution_count": 25,
   "metadata": {},
   "outputs": [
    {
     "name": "stderr",
     "output_type": "stream",
     "text": [
      "100%|██████████| 10/10 [00:00<00:00, 69.37it/s]\n"
     ]
    }
   ],
   "source": [
    "from PIL import Image, ImageDraw, ImageFont\n",
    "\n",
    "from matplotlib.pyplot import imshow\n",
    "import numpy as np\n",
    "\n",
    "import glob\n",
    "import random\n",
    "\n",
    "import os\n",
    "\n",
    "import uuid\n",
    "\n",
    "%matplotlib inline\n",
    "\n",
    "from tqdm import tqdm\n",
    "\n",
    "def gen_image(text=None):\n",
    "    if text is None:\n",
    "        f = open(os.getcwd() + \"/words.txt\", \"r+\")\n",
    "        lines = f.readlines()\n",
    "        lines = list([i[:-1] for i in lines if 9 > len(i) > 5])\n",
    "        text = random.choice(lines)\n",
    "        \n",
    "        \n",
    "    font_name = random.choice(glob.glob(os.getcwd() + \"/fonts/*ttf\"))\n",
    "    \n",
    "    font = ImageFont.truetype(font_name, 28, encoding=\"unic\")\n",
    "    \n",
    "    text_width, text_height = font.getsize(text)\n",
    "    \n",
    "    canvas = Image.new('RGB', (text_width + 10, text_height + 10), \"white\")\n",
    "    draw = ImageDraw.Draw(canvas)\n",
    "    draw.text((5, 5), text, 'black', font)\n",
    "    \n",
    "    canvas = canvas.resize((244, 244), Image.ANTIALIAS)\n",
    "    \n",
    "    return canvas, text\n",
    "    \n",
    "    \n",
    "def gen_dataset(size, folder='train'):\n",
    "    for i in tqdm(range(size)):\n",
    "        img, text = gen_image()\n",
    "        uutext = text + \"_\" + str(uuid.uuid1())[:8] + \".png\"\n",
    "        img.save(f\"data/{folder}/\" + uutext)\n",
    "        \n",
    "gen_dataset(10)"
   ]
  }
 ],
 "metadata": {
  "kernelspec": {
   "display_name": "Python 3",
   "language": "python",
   "name": "python3"
  },
  "language_info": {
   "codemirror_mode": {
    "name": "ipython",
    "version": 3
   },
   "file_extension": ".py",
   "mimetype": "text/x-python",
   "name": "python",
   "nbconvert_exporter": "python",
   "pygments_lexer": "ipython3",
   "version": "3.6.2"
  },
  "toc": {
   "nav_menu": {},
   "number_sections": true,
   "sideBar": true,
   "skip_h1_title": false,
   "title_cell": "Table of Contents",
   "title_sidebar": "Contents",
   "toc_cell": false,
   "toc_position": {},
   "toc_section_display": true,
   "toc_window_display": false
  },
  "varInspector": {
   "cols": {
    "lenName": 16,
    "lenType": 16,
    "lenVar": 40
   },
   "kernels_config": {
    "python": {
     "delete_cmd_postfix": "",
     "delete_cmd_prefix": "del ",
     "library": "var_list.py",
     "varRefreshCmd": "print(var_dic_list())"
    },
    "r": {
     "delete_cmd_postfix": ") ",
     "delete_cmd_prefix": "rm(",
     "library": "var_list.r",
     "varRefreshCmd": "cat(var_dic_list()) "
    }
   },
   "types_to_exclude": [
    "module",
    "function",
    "builtin_function_or_method",
    "instance",
    "_Feature"
   ],
   "window_display": false
  }
 },
 "nbformat": 4,
 "nbformat_minor": 2
}
